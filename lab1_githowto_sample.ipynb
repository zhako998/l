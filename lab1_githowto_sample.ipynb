{
 "cells": [
  {
   "cell_type": "markdown",
   "metadata": {},
   "source": [
    "**initialization task**\n",
    "\n",
    "zzhan@DESKTOP-L9R94NS MINGW64 ~/githowto/githowto/repositories/lec1 (main)\n",
    "$ git init\n",
    "Reinitialized existing Git repository in C:/Users/zzhan/githowto/githowto/repositories/lec1/.git/"
   ]
  },
  {
   "cell_type": "markdown",
   "metadata": {},
   "source": [
    "![alt text](image-3.png)"
   ]
  },
  {
   "cell_type": "markdown",
   "metadata": {},
   "source": [
    "**other tasks**"
   ]
  }
 ],
 "metadata": {
  "language_info": {
   "name": "python"
  }
 },
 "nbformat": 4,
 "nbformat_minor": 2
}
