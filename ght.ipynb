{
 "cells": [
  {
   "cell_type": "markdown",
   "metadata": {},
   "source": [
    "**Create a repository**"
   ]
  },
  {
   "cell_type": "markdown",
   "metadata": {},
   "source": [
    "![alt text](image-4.png)"
   ]
  },
  {
   "cell_type": "markdown",
   "metadata": {},
   "source": [
    "zzhan@DESKTOP-L9R94NS MINGW64 ~/githowto/githowto/repositories/lec1 (main)\n",
    "$ git init\n",
    "Reinitialized existing Git repository in C:/Users/zzhan/githowto/githowto/repositories/lec1/.git/"
   ]
  }
 ],
 "metadata": {
  "language_info": {
   "name": "python"
  }
 },
 "nbformat": 4,
 "nbformat_minor": 2
}
